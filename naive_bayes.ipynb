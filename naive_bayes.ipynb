{
 "cells": [
  {
   "cell_type": "code",
   "execution_count": 4,
   "metadata": {},
   "outputs": [
    {
     "name": "stderr",
     "output_type": "stream",
     "text": [
      "[nltk_data] Downloading package nps_chat to\n",
      "[nltk_data]     /Users/seungwonlim/nltk_data...\n",
      "[nltk_data]   Package nps_chat is already up-to-date!\n"
     ]
    },
    {
     "name": "stdout",
     "output_type": "stream",
     "text": [
      "Accuracy: 0.852\n"
     ]
    }
   ],
   "source": [
    "import nltk\n",
    "\n",
    "nltk.download('nps_chat')\n",
    "posts = nltk.corpus.nps_chat.xml_posts()[:10000]\n",
    "\n",
    "def dialogue_act_features(post):\n",
    "    features = {}\n",
    "    for word in nltk.word_tokenize(post):\n",
    "        features[f'contains({word.lower()})'] = True\n",
    "    return features\n",
    "\n",
    "def generate_binary_feature(label):\n",
    "    return label in ['whQuestion', 'yAnswer','ynQuestion']\n",
    "\n",
    "featuresets = [(dialogue_act_features(post.text), generate_binary_feature(post.get('class'))) for post in posts]\n",
    "\n",
    "# 10% of the total data\n",
    "size = int(len(featuresets) * 0.2)\n",
    "\n",
    "# first 10% for test_set to check the accuracy, and rest 90% after the first 10% for training\n",
    "train_set, test_set = featuresets[size:], featuresets[:size]\n",
    "\n",
    "# get the classifier from the training set\n",
    "classifier = nltk.NaiveBayesClassifier.train(train_set)\n",
    "\n",
    "# to check the accuracy\n",
    "print(\"Accuracy:\", nltk.classify.accuracy(classifier, test_set))\n"
   ]
  },
  {
   "cell_type": "code",
   "execution_count": 7,
   "metadata": {},
   "outputs": [
    {
     "name": "stdout",
     "output_type": "stream",
     "text": [
      "Predicted label: True\n"
     ]
    }
   ],
   "source": [
    "# Now, classify a new sentence\n",
    "new_sentence = \"I don't really understand why\"\n",
    "new_features = dialogue_act_features(new_sentence)\n",
    "predicted_label = classifier.classify(new_features)\n",
    "\n",
    "print(\"Predicted label:\", predicted_label)"
   ]
  },
  {
   "cell_type": "code",
   "execution_count": 21,
   "metadata": {},
   "outputs": [
    {
     "name": "stderr",
     "output_type": "stream",
     "text": [
      "[nltk_data] Downloading package nps_chat to\n",
      "[nltk_data]     /Users/seungwonlim/nltk_data...\n",
      "[nltk_data]   Package nps_chat is already up-to-date!\n",
      "[nltk_data] Downloading package punkt to\n",
      "[nltk_data]     /Users/seungwonlim/nltk_data...\n",
      "[nltk_data]   Package punkt is already up-to-date!\n"
     ]
    },
    {
     "name": "stdout",
     "output_type": "stream",
     "text": [
      "Total question posts: 1083\n",
      "whats everyone up to?\n",
      "any ladis wanna chat? 29 m\n",
      "r u serious\n",
      "don't you have a sharpie?\n",
      "Any ladies wanna chat with 24/m\n",
      "Anyone from Tennessee in here?\n",
      "is 10-19-20sUser68 back yet\n",
      "Any women from Nashville in here?\n",
      "are you a male?\n",
      "hey any guys with cams wanna play?\n",
      "any guyz wanna chat \n",
      "where did everyone gooo?\n",
      "what did you but on e-bay\n",
      "can't sleep huh?\n",
      "well 10-19-20sUser68 what did u buy\n",
      "how you doin 10-19-20sUser139\n",
      "how many kts\n",
      "any single white females?\n",
      "off off?\n",
      "really?\n",
      "Just fine thanks, how are you?\n",
      "finger?\n",
      "any girls wanna chat with 24/m\n",
      "yes 10-19-20sUser121??\n",
      "forwads?\n",
      "22/m/wa any ladies want to chat\n",
      "can i talk to him!!\n",
      "who is he 10-19-20sUser6?\n",
      "who honey??\n",
      "your fiance, do you know his handle?\n",
      "On what kinda pervs your lookin for\n",
      "what, 10-19-20sUser92.\n",
      "handle?\n",
      "lol 10-19-20sUser44 how do u know that\n",
      "what?\n",
      "jerkettes?? lmao\n",
      "CO?\n",
      "wtf\n",
      "girl jerks??\n",
      "ur annoying\n",
      "what'd I miss?\n",
      "why not?? girls are nice honey!!!\n",
      "huh?\n",
      "What?\n",
      "aw 10-19-20sUser115 whys that\n",
      "Your phone sexs is the best\n",
      "I am ugly?\n",
      "Isn't it? =-\\\n",
      "phone 10-19-20sUser92?\n",
      "i hate you 10-19-20sUser68. does that mean I want you?\n",
      "yes 10-19-20sUser115?\n",
      "if your fiance is still here could i talk to him?\n",
      "any girls wanna chat?  24/m\n",
      "someone wanna find me a cheap flight to spain?\n",
      "ok seriously who was the dumbass that signed kev fetterline a rap deal????\n",
      "Ug .. no shit?\n",
      "any texas girls in here?\n",
      "any guys have webcams?\n",
      "rethinks???\n",
      "yes 10-19-20sUser92???\n",
      "asl\n",
      "not a lot, where u from\n",
      "does anyone want to talk to me on the phone?  I don't charge\n",
      "ur female right\n",
      "Remember the LAst time you did that\n",
      "10-19-20sUser115 can i pm you?\n",
      "10-19-20sUser23 how old r u\n",
      "yo 10-19-20sUser115, may i om y?\n",
      "why...\n",
      "are u mexican\n",
      "what r u searching for?\n",
      "why else darling?\n",
      "is he your fiance??\n",
      "what do u do in CA\n",
      "any hot guys wanna chat 22-30\n",
      "any one want to chat\n",
      "whats ur major\n",
      "10-19-20sUser121 how near kc ?\n",
      "near near?\n",
      "wat did u do 10-19-20sUser6?\n",
      "yeah?\n",
      "what list should i put him in??\n",
      "how r u 10-19-20sUser128\n",
      "hows bout u\n",
      "good and urself \n",
      "wats are they?\n",
      "so 10-19-30sUser11 how was youer day\n",
      "like always 10-19-30sUser7 and yours\n",
      "what did u do 10-19-30sUser11\n",
      "what is ur job\n",
      "what stuff 10-19-30sUser11? \n",
      "seriously 10-19-30sUser2? lol\n",
      "what's the flavour of the day 10-19-30sUser9\n",
      "What kind of consultant are you....I'm a financial consultant\n",
      "cool...is biz going good?\n",
      "10-19-30sUser11 sup girl?\n",
      "don't take your own advice? lol\n",
      "shaken or stirred 10-19-30sUser18?\n",
      "10-19-30sUser9...what's your preference?\n",
      "why so mad 10-19-30sUser19\n"
     ]
    }
   ],
   "source": [
    "import nltk\n",
    "\n",
    "# Ensure required NLTK data is downloaded\n",
    "nltk.download('nps_chat')\n",
    "nltk.download('punkt')\n",
    "\n",
    "# Load the NPS chat dataset\n",
    "posts = nltk.corpus.nps_chat.xml_posts()[:100000]\n",
    "\n",
    "# Filter out the posts that are classified as questions\n",
    "question_posts = [post for post in posts if post.get('class') in ['whQuestion', 'ynQuestion']]\n",
    "\n",
    "# Print the total number of question posts\n",
    "print(f\"Total question posts: {len(question_posts)}\")\n",
    "\n",
    "# Optionally, view some of the question posts\n",
    "for post in question_posts[:100]:\n",
    "    print(post.text)\n"
   ]
  },
  {
   "cell_type": "code",
   "execution_count": 17,
   "metadata": {},
   "outputs": [
    {
     "data": {
      "text/plain": [
       "'NICK :10-19-20sUser7'"
      ]
     },
     "execution_count": 17,
     "metadata": {},
     "output_type": "execute_result"
    }
   ],
   "source": [
    "posts[5].text"
   ]
  },
  {
   "cell_type": "code",
   "execution_count": 19,
   "metadata": {},
   "outputs": [
    {
     "data": {
      "text/plain": [
       "'Statement'"
      ]
     },
     "execution_count": 19,
     "metadata": {},
     "output_type": "execute_result"
    }
   ],
   "source": [
    "posts[0].get('class')"
   ]
  },
  {
   "cell_type": "code",
   "execution_count": null,
   "metadata": {},
   "outputs": [],
   "source": []
  }
 ],
 "metadata": {
  "kernelspec": {
   "display_name": ".venv",
   "language": "python",
   "name": "python3"
  },
  "language_info": {
   "codemirror_mode": {
    "name": "ipython",
    "version": 3
   },
   "file_extension": ".py",
   "mimetype": "text/x-python",
   "name": "python",
   "nbconvert_exporter": "python",
   "pygments_lexer": "ipython3",
   "version": "3.9.6"
  }
 },
 "nbformat": 4,
 "nbformat_minor": 2
}
