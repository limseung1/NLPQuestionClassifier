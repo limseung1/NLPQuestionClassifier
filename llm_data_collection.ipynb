{
 "cells": [
  {
   "cell_type": "code",
   "execution_count": 4,
   "metadata": {},
   "outputs": [],
   "source": [
    "from langchain_core.prompts import PromptTemplate\n",
    "from langchain_core.output_parsers import StrOutputParser\n",
    "from langchain_ollama import ChatOllama\n",
    "\n",
    "prompt = PromptTemplate.from_template(\n",
    "      \"\"\"\n",
    "      <s> [INST] \n",
    "      Return true if given sentence is a question or inquiry or a statement that induces response. This includes statement that expresses confusion or ambiguity. Return false otherwise.\n",
    "      Do not try to explain, just simply provide true or false answer.\n",
    "      [/INST] </s> \n",
    "      [INST]\n",
    "      Sentence: {sentence} \n",
    "      Answer: \n",
    "      [/INST]\n",
    "      \"\"\"\n",
    ")\n",
    "\n",
    "\n",
    "llm = ChatOllama(model=\"llama3.1:latest\", temperature=0)\n",
    "chain = prompt | llm\n",
    "\n",
    "sentence1 = '''Thank you so much man, this is awesome content''' # False\n",
    "sentence2 = '''Can you make another video like this.''' # True\n",
    "sentence3 = '''Can I ask you this, make another video like this!''' # True\n",
    "sentence4 = '''What a beautiful video.''' # False\n",
    "sentence5 = '''What were you saying at 5:13 mark''' # True \n",
    "sentence6 = '''Where can I find more material like this''' # True\n",
    "sentence7 = '''I don't get when you said this''' # True\n",
    "sentence8 = '''What were you saying at 5:13 mark''' # True \n",
    "sentence9 = '''I don't understand this part that says''' # True\n",
    "sentence10 = '''I really don't get why people are saying bad things about this video''' # True\n",
    "\n",
    "\n"
   ]
  },
  {
   "cell_type": "code",
   "execution_count": 2,
   "metadata": {},
   "outputs": [
    {
     "name": "stdout",
     "output_type": "stream",
     "text": [
      "False\n",
      "False\n"
     ]
    }
   ],
   "source": [
    "query_chain = chain.invoke(\n",
    "    {\n",
    "        \"sentence\": sentence1\n",
    "    }\n",
    ")\n",
    "print(query_chain.content)\n",
    "\n",
    "expected = False\n",
    "print(expected)"
   ]
  },
  {
   "cell_type": "code",
   "execution_count": 3,
   "metadata": {},
   "outputs": [
    {
     "name": "stdout",
     "output_type": "stream",
     "text": [
      "True.\n",
      "True\n"
     ]
    }
   ],
   "source": [
    "query_chain = chain.invoke(\n",
    "    {\n",
    "        \"sentence\": sentence2\n",
    "    }\n",
    ")\n",
    "print(query_chain.content)\n",
    "\n",
    "expected = True\n",
    "print(expected)"
   ]
  },
  {
   "cell_type": "code",
   "execution_count": 4,
   "metadata": {},
   "outputs": [
    {
     "name": "stdout",
     "output_type": "stream",
     "text": [
      "True\n",
      "True\n"
     ]
    }
   ],
   "source": [
    "query_chain = chain.invoke(\n",
    "    {\n",
    "        \"sentence\": sentence3\n",
    "    }\n",
    ")\n",
    "print(query_chain.content)\n",
    "\n",
    "expected = True\n",
    "print(expected)"
   ]
  },
  {
   "cell_type": "code",
   "execution_count": 5,
   "metadata": {},
   "outputs": [
    {
     "name": "stdout",
     "output_type": "stream",
     "text": [
      "False\n",
      "False\n"
     ]
    }
   ],
   "source": [
    "query_chain = chain.invoke(\n",
    "    {\n",
    "        \"sentence\": sentence4\n",
    "    }\n",
    ")\n",
    "print(query_chain.content)\n",
    "\n",
    "expected = False\n",
    "print(expected)"
   ]
  },
  {
   "cell_type": "code",
   "execution_count": 6,
   "metadata": {},
   "outputs": [
    {
     "name": "stdout",
     "output_type": "stream",
     "text": [
      "True\n",
      "True\n"
     ]
    }
   ],
   "source": [
    "query_chain = chain.invoke(\n",
    "    {\n",
    "        \"sentence\": sentence5\n",
    "    }\n",
    ")\n",
    "print(query_chain.content)\n",
    "\n",
    "expected = True\n",
    "print(expected)"
   ]
  },
  {
   "cell_type": "code",
   "execution_count": 7,
   "metadata": {},
   "outputs": [
    {
     "name": "stdout",
     "output_type": "stream",
     "text": [
      "True\n",
      "True\n"
     ]
    }
   ],
   "source": [
    "query_chain = chain.invoke(\n",
    "    {\n",
    "        \"sentence\": sentence6\n",
    "    }\n",
    ")\n",
    "print(query_chain.content)\n",
    "\n",
    "expected = True\n",
    "print(expected)"
   ]
  },
  {
   "cell_type": "code",
   "execution_count": 8,
   "metadata": {},
   "outputs": [
    {
     "name": "stdout",
     "output_type": "stream",
     "text": [
      "True\n",
      "True\n"
     ]
    }
   ],
   "source": [
    "query_chain = chain.invoke(\n",
    "    {\n",
    "        \"sentence\": sentence7\n",
    "    }\n",
    ")\n",
    "print(query_chain.content)\n",
    "\n",
    "expected = True\n",
    "print(expected)"
   ]
  },
  {
   "cell_type": "code",
   "execution_count": 9,
   "metadata": {},
   "outputs": [
    {
     "name": "stdout",
     "output_type": "stream",
     "text": [
      "True\n",
      "True\n"
     ]
    }
   ],
   "source": [
    "query_chain = chain.invoke(\n",
    "    {\n",
    "        \"sentence\": sentence8\n",
    "    }\n",
    ")\n",
    "print(query_chain.content)\n",
    "\n",
    "expected = True\n",
    "print(expected)"
   ]
  },
  {
   "cell_type": "code",
   "execution_count": 10,
   "metadata": {},
   "outputs": [
    {
     "name": "stdout",
     "output_type": "stream",
     "text": [
      "True\n",
      "True\n"
     ]
    }
   ],
   "source": [
    "query_chain = chain.invoke(\n",
    "    {\n",
    "        \"sentence\": sentence9\n",
    "    }\n",
    ")\n",
    "print(query_chain.content)\n",
    "\n",
    "expected = True\n",
    "print(expected)"
   ]
  },
  {
   "cell_type": "code",
   "execution_count": 11,
   "metadata": {},
   "outputs": [
    {
     "name": "stdout",
     "output_type": "stream",
     "text": [
      "True.\n",
      "False\n"
     ]
    }
   ],
   "source": [
    "query_chain = chain.invoke(\n",
    "    {\n",
    "        \"sentence\": sentence10\n",
    "    }\n",
    ")\n",
    "print(query_chain.content)\n",
    "\n",
    "expected = False\n",
    "print(expected)"
   ]
  }
 ],
 "metadata": {
  "kernelspec": {
   "display_name": ".venv",
   "language": "python",
   "name": "python3"
  },
  "language_info": {
   "codemirror_mode": {
    "name": "ipython",
    "version": 3
   },
   "file_extension": ".py",
   "mimetype": "text/x-python",
   "name": "python",
   "nbconvert_exporter": "python",
   "pygments_lexer": "ipython3",
   "version": "3.9.6"
  }
 },
 "nbformat": 4,
 "nbformat_minor": 2
}
