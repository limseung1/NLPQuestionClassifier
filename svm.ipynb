{
 "cells": [
  {
   "cell_type": "code",
   "execution_count": 1,
   "metadata": {},
   "outputs": [],
   "source": [
    "# import pandas as pd\n",
    "# from sklearn.svm import SVC\n",
    "# from sklearn.naive_bayes import MultinomialNB\n",
    "# from sklearn.model_selection import train_test_split\n",
    "# from sklearn import preprocessing\n",
    "# from sklearn.feature_extraction.text import TfidfVectorizer\n",
    "# from sklearn.metrics import classification_report\n",
    "# from sklearn.metrics import confusion_matrix\n",
    "# from datasets import load_dataset\n",
    "\n",
    "# ds = load_dataset(\"AmazonScience/asnq\") # imports external data\n",
    "\n",
    "# LIMIT = 15000\n",
    "\n",
    "# df_train_question = pd.DataFrame( ds['train']['question'][:LIMIT])\n",
    "# df_train_sentence = pd.DataFrame( ds['train']['sentence'][:LIMIT])\n",
    "\n",
    "# df_train_question['label'] = 1\n",
    "# df_train_sentence['label'] = 0\n",
    "\n",
    "\n",
    "# df = pd.concat([df_train_question, df_train_sentence], ignore_index=True)\n",
    "# df.rename(columns={0: 'text'}, inplace=True)\n",
    "\n",
    "# vectorizer = TfidfVectorizer(analyzer='word',lowercase=True)\n",
    "# X = vectorizer.fit_transform(df['text'])\n",
    "# X_train, X_test, y_train, y_test = train_test_split(X, df['label'], test_size=0.20)\n",
    "\n",
    "# model = SVC(kernel='linear')\n",
    "# model.fit(X_train,y_train)"
   ]
  },
  {
   "cell_type": "code",
   "execution_count": 2,
   "metadata": {},
   "outputs": [],
   "source": [
    "# preds = model.predict(X_test)\n",
    "\n",
    "# print(classification_report(preds,y_test))\n",
    "# print('Accuracy is: ', model.score(X_test,y_test))"
   ]
  },
  {
   "cell_type": "code",
   "execution_count": 3,
   "metadata": {},
   "outputs": [
    {
     "name": "stderr",
     "output_type": "stream",
     "text": [
      "[nltk_data] Downloading package nps_chat to\n",
      "[nltk_data]     /Users/seungwonlim/nltk_data...\n",
      "[nltk_data]   Package nps_chat is already up-to-date!\n",
      "[nltk_data] Downloading package punkt to\n",
      "[nltk_data]     /Users/seungwonlim/nltk_data...\n",
      "[nltk_data]   Package punkt is already up-to-date!\n"
     ]
    },
    {
     "name": "stdout",
     "output_type": "stream",
     "text": [
      "              precision    recall  f1-score   support\n",
      "\n",
      "           0       0.94      0.98      0.96      1759\n",
      "           1       0.77      0.53      0.63       241\n",
      "\n",
      "    accuracy                           0.92      2000\n",
      "   macro avg       0.85      0.75      0.79      2000\n",
      "weighted avg       0.92      0.92      0.92      2000\n",
      "\n"
     ]
    }
   ],
   "source": [
    "import nltk\n",
    "import pandas as pd\n",
    "from sklearn.svm import SVC\n",
    "from sklearn.model_selection import train_test_split\n",
    "from sklearn.feature_extraction.text import TfidfVectorizer\n",
    "from sklearn.metrics import classification_report\n",
    "\n",
    "# Ensure required NLTK data is downloaded\n",
    "nltk.download('nps_chat')\n",
    "nltk.download('punkt')\n",
    "\n",
    "# Load the NPS chat dataset\n",
    "posts = nltk.corpus.nps_chat.xml_posts()[:10000]\n",
    "\n",
    "# Function to extract features from posts\n",
    "def dialogue_act_features(post):\n",
    "    return ' '.join(nltk.word_tokenize(post))\n",
    "\n",
    "# Generate the DataFrame from the posts\n",
    "df_posts = pd.DataFrame({\n",
    "    'text': [dialogue_act_features(post.text) for post in posts],\n",
    "    'label': [1 if post.get('class') in ['whQuestion', 'yAnswer','ynQuestion'] else 0 for post in posts]\n",
    "})\n",
    "\n",
    "# Vectorize the text data\n",
    "vectorizer = TfidfVectorizer(analyzer='word', lowercase=True)\n",
    "X = vectorizer.fit_transform(df_posts['text'])\n",
    "\n",
    "# Split the data into training and testing sets\n",
    "X_train, X_test, y_train, y_test = train_test_split(X, df_posts['label'], test_size=0.20)\n",
    "\n",
    "# Train the model\n",
    "model = SVC(kernel='linear')\n",
    "model.fit(X_train, y_train)\n",
    "\n",
    "# Make predictions and print the classification report\n",
    "preds = model.predict(X_test)\n",
    "print(classification_report(y_test, preds))\n"
   ]
  },
  {
   "cell_type": "code",
   "execution_count": 6,
   "metadata": {},
   "outputs": [
    {
     "name": "stdout",
     "output_type": "stream",
     "text": [
      "Predicted class: 0\n"
     ]
    }
   ],
   "source": [
    "# New sentence to predict\n",
    "new_sentence = \"Is this a question?\"\n",
    "\n",
    "# Transform the new sentence to the same format as training data\n",
    "new_sentence_tfidf = vectorizer.transform([new_sentence])\n",
    "\n",
    "# Predict the class\n",
    "predicted_class = model.predict(new_sentence_tfidf)\n",
    "\n",
    "print(\"Predicted class:\", predicted_class[0]) # 0 if false, 1 if true"
   ]
  },
  {
   "cell_type": "code",
   "execution_count": null,
   "metadata": {},
   "outputs": [],
   "source": []
  }
 ],
 "metadata": {
  "kernelspec": {
   "display_name": ".venv",
   "language": "python",
   "name": "python3"
  },
  "language_info": {
   "codemirror_mode": {
    "name": "ipython",
    "version": 3
   },
   "file_extension": ".py",
   "mimetype": "text/x-python",
   "name": "python",
   "nbconvert_exporter": "python",
   "pygments_lexer": "ipython3",
   "version": "3.9.6"
  }
 },
 "nbformat": 4,
 "nbformat_minor": 2
}
